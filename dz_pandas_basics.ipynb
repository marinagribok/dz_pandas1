{
 "cells": [
  {
   "cell_type": "markdown",
   "metadata": {},
   "source": [
    "Задание 1\n",
    "Скачайте с сайта https://grouplens.org/datasets/movielens/ датасет любого размера. Определите какому фильму было выставлено больше всего оценок 5.0."
   ]
  },
  {
   "cell_type": "code",
   "execution_count": 1,
   "metadata": {},
   "outputs": [],
   "source": [
    "import pandas as pd"
   ]
  },
  {
   "cell_type": "code",
   "execution_count": 4,
   "metadata": {},
   "outputs": [
    {
     "name": "stdout",
     "output_type": "stream",
     "text": [
      "318     153\n",
      "296     123\n",
      "356     116\n",
      "2571    109\n",
      "260     104\n",
      "Name: movieId, dtype: int64\n",
      "     movieId                             title       genres\n",
      "277      318  Shawshank Redemption, The (1994)  Crime|Drama\n"
     ]
    }
   ],
   "source": [
    "movies = pd.read_csv('movies.csv')\n",
    "ratings = pd.read_csv('ratings.csv')\n",
    "\n",
    "rates5 = ratings[ (ratings['rating']== 5.0) ]\n",
    "\n",
    "count5 = rates5['movieId'].value_counts()\n",
    "print(count5.head())\n",
    "\n",
    "bestmovie = movies[movies['movieId']== 318]\n",
    "print(bestmovie)"
   ]
  },
  {
   "cell_type": "markdown",
   "metadata": {},
   "source": [
    "Задание 2\n",
    "По данным файла power.csv посчитайте суммарное потребление стран Прибалтики (Латвия, Литва и Эстония) категорий 4, 12 и 21 за период с 2005 по 2010 года. Не учитывайте в расчетах отрицательные значения quantity."
   ]
  },
  {
   "cell_type": "code",
   "execution_count": 15,
   "metadata": {},
   "outputs": [
    {
     "name": "stdout",
     "output_type": "stream",
     "text": [
      "         country  year  quantity  category\n",
      "10617    Estonia  2008       1.0         4\n",
      "10620    Estonia  2005       1.0         4\n",
      "11156  Lithuania  2008       1.0         4\n",
      "11158  Lithuania  2006       1.0         4\n",
      "11159  Lithuania  2005       1.0         4\n",
      "Cуммарное потребление:  240580.0\n"
     ]
    }
   ],
   "source": [
    "data = pd.read_csv('power.csv')\n",
    "data.head()\n",
    "\n",
    "balt = data[ ((data['country']=='Estonia') | (data['country']=='Latvia') | (data['country']=='Lithuania')) & ((data['category']== 4) | (data['category']== 12) | (data['category']== 21)) & (data['year'] > 2004) & (data['year'] < 2011) & (data['quantity'] > 0)]  \n",
    "print(balt.head())\n",
    "print('Cуммарное потребление: ', balt['quantity'].sum())\n"
   ]
  },
  {
   "cell_type": "markdown",
   "metadata": {},
   "source": [
    "Задание 3\n",
    "Выберите страницу любого сайта с табличными данными. Импортируйте таблицы в pandas dataframe.\n",
    "Примеры страниц (необязательно брать именно эти):\n",
    "https://fortrader.org/quotes\n",
    "https://www.finanz.ru/valyuty/v-realnom-vremeni"
   ]
  },
  {
   "cell_type": "code",
   "execution_count": 39,
   "metadata": {},
   "outputs": [
    {
     "name": "stdout",
     "output_type": "stream",
     "text": [
      "Статистика коронавируса по Москве\n"
     ]
    },
    {
     "data": {
      "text/html": [
       "<div>\n",
       "<style scoped>\n",
       "    .dataframe tbody tr th:only-of-type {\n",
       "        vertical-align: middle;\n",
       "    }\n",
       "\n",
       "    .dataframe tbody tr th {\n",
       "        vertical-align: top;\n",
       "    }\n",
       "\n",
       "    .dataframe thead th {\n",
       "        text-align: right;\n",
       "    }\n",
       "</style>\n",
       "<table border=\"1\" class=\"dataframe\">\n",
       "  <thead>\n",
       "    <tr style=\"text-align: right;\">\n",
       "      <th></th>\n",
       "      <th>Дата</th>\n",
       "      <th>Активных</th>\n",
       "      <th>Вылечено</th>\n",
       "      <th>Умерло</th>\n",
       "      <th>Случаев</th>\n",
       "    </tr>\n",
       "  </thead>\n",
       "  <tbody>\n",
       "    <tr>\n",
       "      <th>0</th>\n",
       "      <td>14.07.2020</td>\n",
       "      <td>60471 -436 -0.7%</td>\n",
       "      <td>165966 +1012 +0.6%</td>\n",
       "      <td>4205 +37 +0.9%</td>\n",
       "      <td>230642 +613 +0.3%</td>\n",
       "    </tr>\n",
       "    <tr>\n",
       "      <th>1</th>\n",
       "      <td>13.07.2020</td>\n",
       "      <td>60907 +253 +0.4%</td>\n",
       "      <td>164954 +394 +0.2%</td>\n",
       "      <td>4168 +25 +0.6%</td>\n",
       "      <td>230029 +672 +0.3%</td>\n",
       "    </tr>\n",
       "    <tr>\n",
       "      <th>2</th>\n",
       "      <td>12.07.2020</td>\n",
       "      <td>60654 +187 +0.3%</td>\n",
       "      <td>164560 +465 +0.3%</td>\n",
       "      <td>4143 +27 +0.7%</td>\n",
       "      <td>229357 +679 +0.3%</td>\n",
       "    </tr>\n",
       "    <tr>\n",
       "      <th>3</th>\n",
       "      <td>11.07.2020</td>\n",
       "      <td>60467 -353 -0.6%</td>\n",
       "      <td>164095 +1002 +0.6%</td>\n",
       "      <td>4116 +29 +0.7%</td>\n",
       "      <td>228678 +678 +0.3%</td>\n",
       "    </tr>\n",
       "    <tr>\n",
       "      <th>4</th>\n",
       "      <td>10.07.2020</td>\n",
       "      <td>60820 -398 -0.7%</td>\n",
       "      <td>163093 +1007 +0.6%</td>\n",
       "      <td>4087 +28 +0.7%</td>\n",
       "      <td>228000 +637 +0.3%</td>\n",
       "    </tr>\n",
       "    <tr>\n",
       "      <th>5</th>\n",
       "      <td>09.07.2020</td>\n",
       "      <td>61218 -637 -1%</td>\n",
       "      <td>162086 +1173 +0.7%</td>\n",
       "      <td>4059 +32 +0.8%</td>\n",
       "      <td>227363 +568 +0.3%</td>\n",
       "    </tr>\n",
       "    <tr>\n",
       "      <th>6</th>\n",
       "      <td>08.07.2020</td>\n",
       "      <td>61855 -602 -1%</td>\n",
       "      <td>160913 +1195 +0.7%</td>\n",
       "      <td>4027 +28 +0.7%</td>\n",
       "      <td>226795 +621 +0.3%</td>\n",
       "    </tr>\n",
       "    <tr>\n",
       "      <th>7</th>\n",
       "      <td>07.07.2020</td>\n",
       "      <td>62457 -1461 -2.3%</td>\n",
       "      <td>159718 +2066 +1.3%</td>\n",
       "      <td>3999 +24 +0.6%</td>\n",
       "      <td>226174 +629 +0.3%</td>\n",
       "    </tr>\n",
       "    <tr>\n",
       "      <th>8</th>\n",
       "      <td>06.07.2020</td>\n",
       "      <td>63918 +31 0%</td>\n",
       "      <td>157652 +632 +0.4%</td>\n",
       "      <td>3975 +22 +0.6%</td>\n",
       "      <td>225545 +685 +0.3%</td>\n",
       "    </tr>\n",
       "    <tr>\n",
       "      <th>9</th>\n",
       "      <td>05.07.2020</td>\n",
       "      <td>63887 +65 +0.1%</td>\n",
       "      <td>157020 +561 +0.4%</td>\n",
       "      <td>3953 +24 +0.6%</td>\n",
       "      <td>224860 +650 +0.3%</td>\n",
       "    </tr>\n",
       "  </tbody>\n",
       "</table>\n",
       "</div>"
      ],
      "text/plain": [
       "         Дата           Активных            Вылечено          Умерло  \\\n",
       "0  14.07.2020   60471 -436 -0.7%  165966 +1012 +0.6%  4205 +37 +0.9%   \n",
       "1  13.07.2020   60907 +253 +0.4%   164954 +394 +0.2%  4168 +25 +0.6%   \n",
       "2  12.07.2020   60654 +187 +0.3%   164560 +465 +0.3%  4143 +27 +0.7%   \n",
       "3  11.07.2020   60467 -353 -0.6%  164095 +1002 +0.6%  4116 +29 +0.7%   \n",
       "4  10.07.2020   60820 -398 -0.7%  163093 +1007 +0.6%  4087 +28 +0.7%   \n",
       "5  09.07.2020     61218 -637 -1%  162086 +1173 +0.7%  4059 +32 +0.8%   \n",
       "6  08.07.2020     61855 -602 -1%  160913 +1195 +0.7%  4027 +28 +0.7%   \n",
       "7  07.07.2020  62457 -1461 -2.3%  159718 +2066 +1.3%  3999 +24 +0.6%   \n",
       "8  06.07.2020       63918 +31 0%   157652 +632 +0.4%  3975 +22 +0.6%   \n",
       "9  05.07.2020    63887 +65 +0.1%   157020 +561 +0.4%  3953 +24 +0.6%   \n",
       "\n",
       "             Случаев  \n",
       "0  230642 +613 +0.3%  \n",
       "1  230029 +672 +0.3%  \n",
       "2  229357 +679 +0.3%  \n",
       "3  228678 +678 +0.3%  \n",
       "4  228000 +637 +0.3%  \n",
       "5  227363 +568 +0.3%  \n",
       "6  226795 +621 +0.3%  \n",
       "7  226174 +629 +0.3%  \n",
       "8  225545 +685 +0.3%  \n",
       "9  224860 +650 +0.3%  "
      ]
     },
     "execution_count": 39,
     "metadata": {},
     "output_type": "execute_result"
    }
   ],
   "source": [
    "print('Статистика коронавируса по Москве')\n",
    "\n",
    "corona_mos = 'https://coronavirusstat.ru/country/moskva/'\n",
    "df = pd.read_html(corona_mos, encoding='utf-8')\n",
    "df[0]\n",
    "\n",
    "\n",
    "                                                                                                                "
   ]
  },
  {
   "cell_type": "code",
   "execution_count": null,
   "metadata": {},
   "outputs": [],
   "source": []
  }
 ],
 "metadata": {
  "kernelspec": {
   "display_name": "Python 3",
   "language": "python",
   "name": "python3"
  },
  "language_info": {
   "codemirror_mode": {
    "name": "ipython",
    "version": 3
   },
   "file_extension": ".py",
   "mimetype": "text/x-python",
   "name": "python",
   "nbconvert_exporter": "python",
   "pygments_lexer": "ipython3",
   "version": "3.7.6"
  }
 },
 "nbformat": 4,
 "nbformat_minor": 4
}
